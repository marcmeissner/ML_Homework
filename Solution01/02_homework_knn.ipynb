{
 "cells": [
  {
   "cell_type": "markdown",
   "metadata": {},
   "source": [
    "# Programming assignment 1: k-Nearest Neighbors classification"
   ]
  },
  {
   "cell_type": "code",
   "execution_count": 4,
   "metadata": {
    "collapsed": true
   },
   "outputs": [],
   "source": [
    "import numpy as np\n",
    "import matplotlib.pyplot as plt\n",
    "%matplotlib inline  "
   ]
  },
  {
   "cell_type": "code",
   "execution_count": 22,
   "metadata": {
    "collapsed": true
   },
   "outputs": [],
   "source": [
    "def load_dataset():\n",
    "    dataset = np.genfromtxt('01_homework_dataset.csv', delimiter=',')\n",
    "    X = dataset[1:, 0:-1]\n",
    "    y = dataset[1:, -1]\n",
    "    return X, y"
   ]
  },
  {
   "cell_type": "code",
   "execution_count": 23,
   "metadata": {},
   "outputs": [],
   "source": [
    "# prepare data\n",
    "X_train, y_train = load_dataset()"
   ]
  },
  {
   "cell_type": "markdown",
   "metadata": {},
   "source": [
    "## Task 1: Euclidean distance\n",
    "Compute Euclidean distance between two data points."
   ]
  },
  {
   "cell_type": "code",
   "execution_count": 14,
   "metadata": {
    "collapsed": true
   },
   "outputs": [],
   "source": [
    "def euclidean_distance(x1, x2):\n",
    "    return np.linalg.norm(x1-x2)"
   ]
  },
  {
   "cell_type": "markdown",
   "metadata": {},
   "source": [
    "## Task 2: get k nearest neighbors' labels\n",
    "Get the labels of the *k* nearest neighbors of the datapoint *x_new*."
   ]
  },
  {
   "cell_type": "code",
   "execution_count": 28,
   "metadata": {
    "collapsed": true
   },
   "outputs": [],
   "source": [
    "def get_neighbors_labels(X_train, y_train, x_new, k):\n",
    "    N_train = X_train.shape[0]\n",
    "    Distances = []\n",
    "    \n",
    "    # Build up a vector with the distances\n",
    "    for x in X_train:\n",
    "        Distances.append(euclidean_distance(x_new, x))\n",
    "                \n",
    "    # Get the maximum distanced index\n",
    "    max_idx = np.argmax(Distances)\n",
    "        \n",
    "    neighbors_idx = []\n",
    "    neighbors_labels = []\n",
    "    neighbors_dist = []\n",
    "    \n",
    "    for j in range(k):\n",
    "        min_dist  = Distances[max_idx]\n",
    "        min_idx = max_idx\n",
    "        for i in range(N_train):\n",
    "            if Distances[i] < min_dist:\n",
    "                allready_assigned_flag = 0\n",
    "                for idx in neighbors_idx:\n",
    "                    if i == idx:\n",
    "                        allready_assigned_flag = 1\n",
    "                        break\n",
    "                if allready_assigned_flag == 0:\n",
    "                    min_dist = Distances[i]\n",
    "                    min_idx = i\n",
    "        \n",
    "        neighbors_idx.append(min_idx)\n",
    "        neighbors_labels.append(y_train[min_idx])\n",
    "        neighbors_dist.append(min_dist)\n",
    "    \n",
    "    return neighbors_labels, neighbors_dist"
   ]
  },
  {
   "cell_type": "markdown",
   "metadata": {},
   "source": [
    "## Task 3: get the majority label\n",
    "For the previously computed labels of the *k* nearest neighbors, compute the actual response. I.e. give back the class of the majority of nearest neighbors. Think about how a tie is handled by your solution."
   ]
  },
  {
   "cell_type": "code",
   "execution_count": 37,
   "metadata": {
    "collapsed": true
   },
   "outputs": [],
   "source": [
    "def get_classification_response(neighbors, num_classes=3):   \n",
    "    class_votes = np.zeros(num_classes)\n",
    "    \n",
    "    for c in neighbors:\n",
    "        class_votes[int(c)] = class_votes[int(c)] + 1\n",
    "    \n",
    "    # Get the class index with the highest number of votes. A tie is handled by the argmax function.\n",
    "    return np.argmax(class_votes)"
   ]
  },
  {
   "cell_type": "code",
   "execution_count": 34,
   "metadata": {
    "collapsed": true
   },
   "outputs": [],
   "source": [
    "def get_regression_response(neighbors, distances):\n",
    "    k = len(neighbors)\n",
    "    \n",
    "    y_reg = 0\n",
    "    Z = 0\n",
    "    \n",
    "    for i in range(k):\n",
    "        y_reg = y_reg + neighbors[i] / distances[i]\n",
    "        Z = Z + 1 / distances[i]\n",
    "    \n",
    "    return y_reg/Z"
   ]
  },
  {
   "cell_type": "markdown",
   "metadata": {},
   "source": [
    "## Task 4: compute accuracy\n",
    "Compute the accuracy of the generated predictions."
   ]
  },
  {
   "cell_type": "code",
   "execution_count": 11,
   "metadata": {
    "collapsed": true
   },
   "outputs": [],
   "source": [
    "def compute_accuracy(y_pred, y_test):\n",
    "    N_test = len(y_pred)\n",
    "    pos_num = 0\n",
    "    \n",
    "    for i in range(N_test):\n",
    "        if y_pred[i] == y_test[i]:\n",
    "            pos_num = pos_num + 1\n",
    "    \n",
    "    return pos_num/N_test"
   ]
  },
  {
   "cell_type": "code",
   "execution_count": 35,
   "metadata": {
    "collapsed": true
   },
   "outputs": [],
   "source": [
    "# This function is given, nothing to do here.\n",
    "def predict(X_train, y_train, x, k):\n",
    "    neighbors, distances = get_neighbors_labels(X_train, y_train, x, k)\n",
    "    print(neighbors, distances)\n",
    "    y_pred = get_classification_response(neighbors)\n",
    "    y_reg = get_regression_response(neighbors, distances)\n",
    "    return y_pred, y_reg"
   ]
  },
  {
   "cell_type": "markdown",
   "metadata": {},
   "source": [
    "## Testing"
   ]
  },
  {
   "cell_type": "code",
   "execution_count": 38,
   "metadata": {},
   "outputs": [
    {
     "name": "stdout",
     "output_type": "stream",
     "text": [
      "Training set: 15 samples\n",
      "[0.0, 2.0, 1.0] [0.67082039324993714, 2.1840329667841556, 2.4738633753705961]\n",
      "[2.0, 0.0, 2.0] [1.1747340124470735, 1.7464249196572976, 2.1189620100417086]\n",
      "0 0.561016425974\n",
      "2 1.39592451329\n"
     ]
    }
   ],
   "source": [
    "print('Training set: {0} samples'.format(X_train.shape[0]))\n",
    "\n",
    "# generate prediction\n",
    "k = 3\n",
    "xa = [4.1, -0.1, 2.2]\n",
    "xb = [6.1, 0.4, 1.3]\n",
    "\n",
    "ya, y_a = predict(X_train, y_train, xa, k)\n",
    "yb, y_b = predict(X_train, y_train, xb, k)\n",
    "print(ya, y_a)\n",
    "print(yb, y_b)"
   ]
  }
 ],
 "metadata": {
  "kernelspec": {
   "display_name": "Python 3",
   "language": "python",
   "name": "python3"
  },
  "language_info": {
   "codemirror_mode": {
    "name": "ipython",
    "version": 3
   },
   "file_extension": ".py",
   "mimetype": "text/x-python",
   "name": "python",
   "nbconvert_exporter": "python",
   "pygments_lexer": "ipython3",
   "version": "3.5.2"
  },
  "toc": {
   "colors": {
    "hover_highlight": "#DAA520",
    "navigate_num": "#000000",
    "navigate_text": "#333333",
    "running_highlight": "#FF0000",
    "selected_highlight": "#FFD700",
    "sidebar_border": "#EEEEEE",
    "wrapper_background": "#FFFFFF"
   },
   "moveMenuLeft": true,
   "nav_menu": {
    "height": "207px",
    "width": "252px"
   },
   "navigate_menu": true,
   "number_sections": true,
   "sideBar": true,
   "threshold": 4,
   "toc_cell": false,
   "toc_section_display": "block",
   "toc_window_display": false,
   "widenNotebook": false
  }
 },
 "nbformat": 4,
 "nbformat_minor": 1
}
